{
 "cells": [
  {
   "cell_type": "code",
   "execution_count": 1,
   "metadata": {},
   "outputs": [],
   "source": [
    "import numpy as np\n",
    "import pandas as pd"
   ]
  },
  {
   "cell_type": "code",
   "execution_count": 2,
   "metadata": {},
   "outputs": [],
   "source": [
    "#importing PyTorch \n",
    "import torch \n",
    "import torch.nn as nn\n",
    "import torch.nn.parallel\n",
    "import torch.optim as optim\n",
    "import torch.utils.data\n",
    "from torch.autograd import Variable"
   ]
  },
  {
   "cell_type": "code",
   "execution_count": 3,
   "metadata": {},
   "outputs": [
    {
     "data": {
      "text/html": [
       "<div>\n",
       "<style scoped>\n",
       "    .dataframe tbody tr th:only-of-type {\n",
       "        vertical-align: middle;\n",
       "    }\n",
       "\n",
       "    .dataframe tbody tr th {\n",
       "        vertical-align: top;\n",
       "    }\n",
       "\n",
       "    .dataframe thead th {\n",
       "        text-align: right;\n",
       "    }\n",
       "</style>\n",
       "<table border=\"1\" class=\"dataframe\">\n",
       "  <thead>\n",
       "    <tr style=\"text-align: right;\">\n",
       "      <th></th>\n",
       "      <th>1</th>\n",
       "      <th>1.1</th>\n",
       "      <th>5</th>\n",
       "      <th>874965758</th>\n",
       "    </tr>\n",
       "  </thead>\n",
       "  <tbody>\n",
       "    <tr>\n",
       "      <th>0</th>\n",
       "      <td>1</td>\n",
       "      <td>2</td>\n",
       "      <td>3</td>\n",
       "      <td>876893171</td>\n",
       "    </tr>\n",
       "    <tr>\n",
       "      <th>1</th>\n",
       "      <td>1</td>\n",
       "      <td>3</td>\n",
       "      <td>4</td>\n",
       "      <td>878542960</td>\n",
       "    </tr>\n",
       "    <tr>\n",
       "      <th>2</th>\n",
       "      <td>1</td>\n",
       "      <td>4</td>\n",
       "      <td>3</td>\n",
       "      <td>876893119</td>\n",
       "    </tr>\n",
       "    <tr>\n",
       "      <th>3</th>\n",
       "      <td>1</td>\n",
       "      <td>5</td>\n",
       "      <td>3</td>\n",
       "      <td>889751712</td>\n",
       "    </tr>\n",
       "    <tr>\n",
       "      <th>4</th>\n",
       "      <td>1</td>\n",
       "      <td>7</td>\n",
       "      <td>4</td>\n",
       "      <td>875071561</td>\n",
       "    </tr>\n",
       "  </tbody>\n",
       "</table>\n",
       "</div>"
      ],
      "text/plain": [
       "   1  1.1  5  874965758\n",
       "0  1    2  3  876893171\n",
       "1  1    3  4  878542960\n",
       "2  1    4  3  876893119\n",
       "3  1    5  3  889751712\n",
       "4  1    7  4  875071561"
      ]
     },
     "execution_count": 3,
     "metadata": {},
     "output_type": "execute_result"
    }
   ],
   "source": [
    "training_set = pd.read_csv('ml-100k/u1.base', delimiter = '\\t')\n",
    "training_set.head()"
   ]
  },
  {
   "cell_type": "code",
   "execution_count": 4,
   "metadata": {},
   "outputs": [
    {
     "data": {
      "text/plain": [
       "array([[        1,         2,         3, 876893171],\n",
       "       [        1,         3,         4, 878542960],\n",
       "       [        1,         4,         3, 876893119],\n",
       "       ...,\n",
       "       [      943,      1188,         3, 888640250],\n",
       "       [      943,      1228,         3, 888640275],\n",
       "       [      943,      1330,         3, 888692465]], dtype=int64)"
      ]
     },
     "execution_count": 4,
     "metadata": {},
     "output_type": "execute_result"
    }
   ],
   "source": [
    "training_set = training_set.values\n",
    "training_set"
   ]
  },
  {
   "cell_type": "code",
   "execution_count": 5,
   "metadata": {},
   "outputs": [
    {
     "data": {
      "text/html": [
       "<div>\n",
       "<style scoped>\n",
       "    .dataframe tbody tr th:only-of-type {\n",
       "        vertical-align: middle;\n",
       "    }\n",
       "\n",
       "    .dataframe tbody tr th {\n",
       "        vertical-align: top;\n",
       "    }\n",
       "\n",
       "    .dataframe thead th {\n",
       "        text-align: right;\n",
       "    }\n",
       "</style>\n",
       "<table border=\"1\" class=\"dataframe\">\n",
       "  <thead>\n",
       "    <tr style=\"text-align: right;\">\n",
       "      <th></th>\n",
       "      <th>1</th>\n",
       "      <th>6</th>\n",
       "      <th>5</th>\n",
       "      <th>887431973</th>\n",
       "    </tr>\n",
       "  </thead>\n",
       "  <tbody>\n",
       "    <tr>\n",
       "      <th>0</th>\n",
       "      <td>1</td>\n",
       "      <td>10</td>\n",
       "      <td>3</td>\n",
       "      <td>875693118</td>\n",
       "    </tr>\n",
       "    <tr>\n",
       "      <th>1</th>\n",
       "      <td>1</td>\n",
       "      <td>12</td>\n",
       "      <td>5</td>\n",
       "      <td>878542960</td>\n",
       "    </tr>\n",
       "    <tr>\n",
       "      <th>2</th>\n",
       "      <td>1</td>\n",
       "      <td>14</td>\n",
       "      <td>5</td>\n",
       "      <td>874965706</td>\n",
       "    </tr>\n",
       "    <tr>\n",
       "      <th>3</th>\n",
       "      <td>1</td>\n",
       "      <td>17</td>\n",
       "      <td>3</td>\n",
       "      <td>875073198</td>\n",
       "    </tr>\n",
       "    <tr>\n",
       "      <th>4</th>\n",
       "      <td>1</td>\n",
       "      <td>20</td>\n",
       "      <td>4</td>\n",
       "      <td>887431883</td>\n",
       "    </tr>\n",
       "  </tbody>\n",
       "</table>\n",
       "</div>"
      ],
      "text/plain": [
       "   1   6  5  887431973\n",
       "0  1  10  3  875693118\n",
       "1  1  12  5  878542960\n",
       "2  1  14  5  874965706\n",
       "3  1  17  3  875073198\n",
       "4  1  20  4  887431883"
      ]
     },
     "execution_count": 5,
     "metadata": {},
     "output_type": "execute_result"
    }
   ],
   "source": [
    "test_set = pd.read_csv('ml-100k/u1.test', delimiter = '\\t')\n",
    "test_set.head()"
   ]
  },
  {
   "cell_type": "code",
   "execution_count": 6,
   "metadata": {},
   "outputs": [
    {
     "data": {
      "text/plain": [
       "array([[        1,        10,         3, 875693118],\n",
       "       [        1,        12,         5, 878542960],\n",
       "       [        1,        14,         5, 874965706],\n",
       "       ...,\n",
       "       [      459,       934,         3, 879563639],\n",
       "       [      460,        10,         3, 882912371],\n",
       "       [      462,       682,         5, 886365231]], dtype=int64)"
      ]
     },
     "execution_count": 6,
     "metadata": {},
     "output_type": "execute_result"
    }
   ],
   "source": [
    "test_set = test_set.values\n",
    "test_set"
   ]
  },
  {
   "cell_type": "code",
   "execution_count": 7,
   "metadata": {},
   "outputs": [
    {
     "data": {
      "text/plain": [
       "943"
      ]
     },
     "execution_count": 7,
     "metadata": {},
     "output_type": "execute_result"
    }
   ],
   "source": [
    "nb_users = int(max(max(training_set[:, 0]), max(test_set[:, 0])))\n",
    "nb_users"
   ]
  },
  {
   "cell_type": "code",
   "execution_count": 8,
   "metadata": {},
   "outputs": [
    {
     "data": {
      "text/plain": [
       "1682"
      ]
     },
     "execution_count": 8,
     "metadata": {},
     "output_type": "execute_result"
    }
   ],
   "source": [
    "nb_movies = int(max(max(training_set[:, 1]), max(test_set[:, 1])))\n",
    "nb_movies"
   ]
  },
  {
   "cell_type": "code",
   "execution_count": 9,
   "metadata": {},
   "outputs": [],
   "source": [
    "#creating the data structure \n",
    "def convert(data):\n",
    "    res = []\n",
    "    for i in range(nb_users):\n",
    "        movies = np.zeros(nb_movies)\n",
    "        for j in range(len(data)):\n",
    "            if data[j, 0] == i+1:\n",
    "                movies[data[j, 1] - 1] = data[j, 2]\n",
    "        res.append(movies)\n",
    "    return np.array(res)"
   ]
  },
  {
   "cell_type": "code",
   "execution_count": 10,
   "metadata": {},
   "outputs": [],
   "source": [
    "training_set = convert(training_set)\n",
    "test_set = convert(test_set)"
   ]
  },
  {
   "cell_type": "code",
   "execution_count": 11,
   "metadata": {},
   "outputs": [
    {
     "data": {
      "text/plain": [
       "tensor([[0., 3., 4.,  ..., 0., 0., 0.],\n",
       "        [4., 0., 0.,  ..., 0., 0., 0.],\n",
       "        [0., 0., 0.,  ..., 0., 0., 0.],\n",
       "        ...,\n",
       "        [5., 0., 0.,  ..., 0., 0., 0.],\n",
       "        [0., 0., 0.,  ..., 0., 0., 0.],\n",
       "        [0., 5., 0.,  ..., 0., 0., 0.]])"
      ]
     },
     "execution_count": 11,
     "metadata": {},
     "output_type": "execute_result"
    }
   ],
   "source": [
    "training_set = torch.FloatTensor(training_set)\n",
    "training_set"
   ]
  },
  {
   "cell_type": "code",
   "execution_count": 12,
   "metadata": {},
   "outputs": [
    {
     "data": {
      "text/plain": [
       "tensor([[0., 0., 0.,  ..., 0., 0., 0.],\n",
       "        [0., 0., 0.,  ..., 0., 0., 0.],\n",
       "        [0., 0., 0.,  ..., 0., 0., 0.],\n",
       "        ...,\n",
       "        [0., 0., 0.,  ..., 0., 0., 0.],\n",
       "        [0., 0., 0.,  ..., 0., 0., 0.],\n",
       "        [0., 0., 0.,  ..., 0., 0., 0.]])"
      ]
     },
     "execution_count": 12,
     "metadata": {},
     "output_type": "execute_result"
    }
   ],
   "source": [
    "test_set = torch.FloatTensor(test_set)\n",
    "test_set"
   ]
  },
  {
   "cell_type": "code",
   "execution_count": 13,
   "metadata": {},
   "outputs": [],
   "source": [
    "#creating the architecture of our Autoencoders \n",
    "class SAE(nn.Module):\n",
    "    def __init__(self, ):\n",
    "        super(SAE, self).__init__()\n",
    "        self.fc1 = nn.Linear(nb_movies, 20)\n",
    "        self.fc2 = nn.Linear(20, 10)\n",
    "        self.fc3 = nn.Linear(10, 20)\n",
    "        self.fc4 = nn.Linear(20, nb_movies)\n",
    "        self.activation = nn.Sigmoid()\n",
    "    def forward(self, x):\n",
    "        x = self.activation(self.fc1(x))\n",
    "        x = self.activation(self.fc2(x))\n",
    "        x = self.activation(self.fc3(x))\n",
    "        x = self.fc4(x)\n",
    "        return x"
   ]
  },
  {
   "cell_type": "code",
   "execution_count": 14,
   "metadata": {},
   "outputs": [],
   "source": [
    "sae = SAE()\n",
    "criterion = nn.MSELoss() \n",
    "optimizer = optim.RMSprop(sae.parameters(), lr = 0.01, weight_decay = 0.5)"
   ]
  },
  {
   "cell_type": "code",
   "execution_count": 15,
   "metadata": {},
   "outputs": [
    {
     "data": {
      "text/plain": [
       "__main__.SAE"
      ]
     },
     "execution_count": 15,
     "metadata": {},
     "output_type": "execute_result"
    }
   ],
   "source": [
    "type(sae)"
   ]
  },
  {
   "cell_type": "code",
   "execution_count": 16,
   "metadata": {},
   "outputs": [
    {
     "data": {
      "text/plain": [
       "torch.nn.modules.loss.MSELoss"
      ]
     },
     "execution_count": 16,
     "metadata": {},
     "output_type": "execute_result"
    }
   ],
   "source": [
    "type(criterion)"
   ]
  },
  {
   "cell_type": "code",
   "execution_count": 18,
   "metadata": {},
   "outputs": [
    {
     "name": "stdout",
     "output_type": "stream",
     "text": [
      "epoch: 1 loss: tensor(1.7709)\n",
      "epoch: 2 loss: tensor(1.0967)\n",
      "epoch: 3 loss: tensor(1.0533)\n",
      "epoch: 4 loss: tensor(1.0383)\n",
      "epoch: 5 loss: tensor(1.0308)\n",
      "epoch: 6 loss: tensor(1.0265)\n",
      "epoch: 7 loss: tensor(1.0238)\n",
      "epoch: 8 loss: tensor(1.0220)\n",
      "epoch: 9 loss: tensor(1.0205)\n",
      "epoch: 10 loss: tensor(1.0196)\n",
      "epoch: 11 loss: tensor(1.0188)\n",
      "epoch: 12 loss: tensor(1.0185)\n",
      "epoch: 13 loss: tensor(1.0176)\n",
      "epoch: 14 loss: tensor(1.0176)\n",
      "epoch: 15 loss: tensor(1.0171)\n",
      "epoch: 16 loss: tensor(1.0171)\n",
      "epoch: 17 loss: tensor(1.0168)\n",
      "epoch: 18 loss: tensor(1.0164)\n",
      "epoch: 19 loss: tensor(1.0165)\n",
      "epoch: 20 loss: tensor(1.0161)\n",
      "epoch: 21 loss: tensor(1.0159)\n",
      "epoch: 22 loss: tensor(1.0158)\n",
      "epoch: 23 loss: tensor(1.0158)\n",
      "epoch: 24 loss: tensor(1.0157)\n",
      "epoch: 25 loss: tensor(1.0158)\n",
      "epoch: 26 loss: tensor(1.0156)\n",
      "epoch: 27 loss: tensor(1.0153)\n",
      "epoch: 28 loss: tensor(1.0151)\n",
      "epoch: 29 loss: tensor(1.0127)\n",
      "epoch: 30 loss: tensor(1.0114)\n",
      "epoch: 31 loss: tensor(1.0092)\n",
      "epoch: 32 loss: tensor(1.0097)\n",
      "epoch: 33 loss: tensor(1.0052)\n",
      "epoch: 34 loss: tensor(1.0041)\n",
      "epoch: 35 loss: tensor(1.0008)\n",
      "epoch: 36 loss: tensor(1.0005)\n",
      "epoch: 37 loss: tensor(0.9964)\n",
      "epoch: 38 loss: tensor(0.9963)\n",
      "epoch: 39 loss: tensor(0.9925)\n",
      "epoch: 40 loss: tensor(0.9916)\n",
      "epoch: 41 loss: tensor(0.9885)\n",
      "epoch: 42 loss: tensor(0.9898)\n",
      "epoch: 43 loss: tensor(0.9898)\n",
      "epoch: 44 loss: tensor(0.9852)\n",
      "epoch: 45 loss: tensor(0.9877)\n",
      "epoch: 46 loss: tensor(0.9897)\n",
      "epoch: 47 loss: tensor(0.9860)\n",
      "epoch: 48 loss: tensor(0.9865)\n",
      "epoch: 49 loss: tensor(0.9833)\n",
      "epoch: 50 loss: tensor(0.9843)\n",
      "epoch: 51 loss: tensor(0.9780)\n",
      "epoch: 52 loss: tensor(0.9790)\n",
      "epoch: 53 loss: tensor(0.9817)\n",
      "epoch: 54 loss: tensor(0.9814)\n",
      "epoch: 55 loss: tensor(0.9748)\n",
      "epoch: 56 loss: tensor(0.9772)\n",
      "epoch: 57 loss: tensor(0.9726)\n",
      "epoch: 58 loss: tensor(0.9747)\n",
      "epoch: 59 loss: tensor(0.9768)\n",
      "epoch: 60 loss: tensor(0.9763)\n",
      "epoch: 61 loss: tensor(0.9666)\n",
      "epoch: 62 loss: tensor(0.9707)\n",
      "epoch: 63 loss: tensor(0.9668)\n",
      "epoch: 64 loss: tensor(0.9671)\n",
      "epoch: 65 loss: tensor(0.9628)\n",
      "epoch: 66 loss: tensor(0.9629)\n",
      "epoch: 67 loss: tensor(0.9571)\n",
      "epoch: 68 loss: tensor(0.9571)\n",
      "epoch: 69 loss: tensor(0.9580)\n",
      "epoch: 70 loss: tensor(0.9548)\n",
      "epoch: 71 loss: tensor(0.9549)\n",
      "epoch: 72 loss: tensor(0.9565)\n",
      "epoch: 73 loss: tensor(0.9535)\n",
      "epoch: 74 loss: tensor(0.9502)\n",
      "epoch: 75 loss: tensor(0.9516)\n",
      "epoch: 76 loss: tensor(0.9503)\n",
      "epoch: 77 loss: tensor(0.9495)\n",
      "epoch: 78 loss: tensor(0.9484)\n",
      "epoch: 79 loss: tensor(0.9445)\n",
      "epoch: 80 loss: tensor(0.9450)\n",
      "epoch: 81 loss: tensor(0.9435)\n",
      "epoch: 82 loss: tensor(0.9441)\n",
      "epoch: 83 loss: tensor(0.9411)\n",
      "epoch: 84 loss: tensor(0.9428)\n",
      "epoch: 85 loss: tensor(0.9401)\n",
      "epoch: 86 loss: tensor(0.9407)\n",
      "epoch: 87 loss: tensor(0.9390)\n",
      "epoch: 88 loss: tensor(0.9396)\n",
      "epoch: 89 loss: tensor(0.9377)\n",
      "epoch: 90 loss: tensor(0.9382)\n",
      "epoch: 91 loss: tensor(0.9362)\n",
      "epoch: 92 loss: tensor(0.9371)\n",
      "epoch: 93 loss: tensor(0.9346)\n",
      "epoch: 94 loss: tensor(0.9397)\n",
      "epoch: 95 loss: tensor(0.9375)\n",
      "epoch: 96 loss: tensor(0.9376)\n",
      "epoch: 97 loss: tensor(0.9351)\n",
      "epoch: 98 loss: tensor(0.9362)\n",
      "epoch: 99 loss: tensor(0.9343)\n",
      "epoch: 100 loss: tensor(0.9348)\n",
      "epoch: 101 loss: tensor(0.9339)\n",
      "epoch: 102 loss: tensor(0.9336)\n",
      "epoch: 103 loss: tensor(0.9361)\n",
      "epoch: 104 loss: tensor(0.9368)\n",
      "epoch: 105 loss: tensor(0.9350)\n",
      "epoch: 106 loss: tensor(0.9353)\n",
      "epoch: 107 loss: tensor(0.9330)\n",
      "epoch: 108 loss: tensor(0.9351)\n",
      "epoch: 109 loss: tensor(0.9330)\n",
      "epoch: 110 loss: tensor(0.9340)\n",
      "epoch: 111 loss: tensor(0.9320)\n",
      "epoch: 112 loss: tensor(0.9324)\n",
      "epoch: 113 loss: tensor(0.9314)\n",
      "epoch: 114 loss: tensor(0.9321)\n",
      "epoch: 115 loss: tensor(0.9314)\n",
      "epoch: 116 loss: tensor(0.9309)\n",
      "epoch: 117 loss: tensor(0.9301)\n",
      "epoch: 118 loss: tensor(0.9304)\n",
      "epoch: 119 loss: tensor(0.9296)\n",
      "epoch: 120 loss: tensor(0.9295)\n",
      "epoch: 121 loss: tensor(0.9290)\n",
      "epoch: 122 loss: tensor(0.9289)\n",
      "epoch: 123 loss: tensor(0.9283)\n",
      "epoch: 124 loss: tensor(0.9284)\n",
      "epoch: 125 loss: tensor(0.9278)\n",
      "epoch: 126 loss: tensor(0.9277)\n",
      "epoch: 127 loss: tensor(0.9270)\n",
      "epoch: 128 loss: tensor(0.9274)\n",
      "epoch: 129 loss: tensor(0.9264)\n",
      "epoch: 130 loss: tensor(0.9270)\n",
      "epoch: 131 loss: tensor(0.9259)\n",
      "epoch: 132 loss: tensor(0.9261)\n",
      "epoch: 133 loss: tensor(0.9254)\n",
      "epoch: 134 loss: tensor(0.9255)\n",
      "epoch: 135 loss: tensor(0.9251)\n",
      "epoch: 136 loss: tensor(0.9253)\n",
      "epoch: 137 loss: tensor(0.9243)\n",
      "epoch: 138 loss: tensor(0.9247)\n",
      "epoch: 139 loss: tensor(0.9238)\n",
      "epoch: 140 loss: tensor(0.9243)\n",
      "epoch: 141 loss: tensor(0.9234)\n",
      "epoch: 142 loss: tensor(0.9234)\n",
      "epoch: 143 loss: tensor(0.9227)\n",
      "epoch: 144 loss: tensor(0.9238)\n",
      "epoch: 145 loss: tensor(0.9223)\n",
      "epoch: 146 loss: tensor(0.9220)\n",
      "epoch: 147 loss: tensor(0.9211)\n",
      "epoch: 148 loss: tensor(0.9225)\n",
      "epoch: 149 loss: tensor(0.9208)\n",
      "epoch: 150 loss: tensor(0.9209)\n",
      "epoch: 151 loss: tensor(0.9205)\n",
      "epoch: 152 loss: tensor(0.9211)\n",
      "epoch: 153 loss: tensor(0.9203)\n",
      "epoch: 154 loss: tensor(0.9208)\n",
      "epoch: 155 loss: tensor(0.9197)\n",
      "epoch: 156 loss: tensor(0.9202)\n",
      "epoch: 157 loss: tensor(0.9192)\n",
      "epoch: 158 loss: tensor(0.9197)\n",
      "epoch: 159 loss: tensor(0.9187)\n",
      "epoch: 160 loss: tensor(0.9192)\n",
      "epoch: 161 loss: tensor(0.9184)\n",
      "epoch: 162 loss: tensor(0.9191)\n",
      "epoch: 163 loss: tensor(0.9182)\n",
      "epoch: 164 loss: tensor(0.9189)\n",
      "epoch: 165 loss: tensor(0.9181)\n",
      "epoch: 166 loss: tensor(0.9184)\n",
      "epoch: 167 loss: tensor(0.9172)\n",
      "epoch: 168 loss: tensor(0.9179)\n",
      "epoch: 169 loss: tensor(0.9172)\n",
      "epoch: 170 loss: tensor(0.9179)\n",
      "epoch: 171 loss: tensor(0.9168)\n",
      "epoch: 172 loss: tensor(0.9175)\n",
      "epoch: 173 loss: tensor(0.9164)\n",
      "epoch: 174 loss: tensor(0.9171)\n",
      "epoch: 175 loss: tensor(0.9163)\n",
      "epoch: 176 loss: tensor(0.9170)\n",
      "epoch: 177 loss: tensor(0.9161)\n",
      "epoch: 178 loss: tensor(0.9166)\n",
      "epoch: 179 loss: tensor(0.9158)\n",
      "epoch: 180 loss: tensor(0.9164)\n",
      "epoch: 181 loss: tensor(0.9155)\n",
      "epoch: 182 loss: tensor(0.9162)\n",
      "epoch: 183 loss: tensor(0.9155)\n",
      "epoch: 184 loss: tensor(0.9158)\n",
      "epoch: 185 loss: tensor(0.9152)\n",
      "epoch: 186 loss: tensor(0.9155)\n",
      "epoch: 187 loss: tensor(0.9151)\n",
      "epoch: 188 loss: tensor(0.9153)\n",
      "epoch: 189 loss: tensor(0.9148)\n",
      "epoch: 190 loss: tensor(0.9152)\n",
      "epoch: 191 loss: tensor(0.9147)\n",
      "epoch: 192 loss: tensor(0.9146)\n",
      "epoch: 193 loss: tensor(0.9143)\n",
      "epoch: 194 loss: tensor(0.9198)\n",
      "epoch: 195 loss: tensor(0.9200)\n",
      "epoch: 196 loss: tensor(0.9197)\n",
      "epoch: 197 loss: tensor(0.9189)\n",
      "epoch: 198 loss: tensor(0.9194)\n",
      "epoch: 199 loss: tensor(0.9187)\n",
      "epoch: 200 loss: tensor(0.9179)\n"
     ]
    }
   ],
   "source": [
    "#training our SAE\n",
    "epochs = 200\n",
    "for epoch in range(1, epochs + 1):\n",
    "    train_loss = 0\n",
    "    s = 0.\n",
    "    for id_user in range(nb_users):\n",
    "        input_vector = Variable(training_set[id_user]).unsqueeze(0)\n",
    "        target_vector = input_vector.clone()\n",
    "        if torch.sum(target_vector.data > 0) > 0:\n",
    "            output_vector = sae.forward(input_vector)\n",
    "            target_vector.require_grad = False\n",
    "            output_vector[target_vector == 0] = 0\n",
    "            loss = criterion(output_vector, target_vector)\n",
    "            mean_corrector = nb_movies/float(torch.sum(target_vector.data > 0) + 1e-10)\n",
    "            loss.backward()\n",
    "            train_loss += np.sqrt(loss.data * mean_corrector)\n",
    "            s += 1.\n",
    "            optimizer.step()\n",
    "    print(\"epoch: \" + str(epoch) + \" loss: \" + str(train_loss/s))"
   ]
  },
  {
   "cell_type": "code",
   "execution_count": 19,
   "metadata": {},
   "outputs": [
    {
     "data": {
      "text/plain": [
       "torch.Size([943, 1682])"
      ]
     },
     "execution_count": 19,
     "metadata": {},
     "output_type": "execute_result"
    }
   ],
   "source": [
    "np.shape(test_set)"
   ]
  },
  {
   "cell_type": "code",
   "execution_count": 21,
   "metadata": {},
   "outputs": [
    {
     "name": "stdout",
     "output_type": "stream",
     "text": [
      "loss : tensor(0.9531)\n"
     ]
    }
   ],
   "source": [
    "#Testing our model \n",
    "test_loss = 0\n",
    "counter = 0.\n",
    "for id_user in range(nb_users):\n",
    "    input_vector = Variable(training_set[id_user]).unsqueeze(0)\n",
    "    target_vector = Variable(test_set[id_user]).unsqueeze(0)\n",
    "    if torch.sum(target_vector.data > 0) > 0:\n",
    "        output_vector = sae.forward(input_vector)\n",
    "        output_vector[target_vector == 0] = 0\n",
    "        loss = criterion(output_vector, target_vector)\n",
    "        mean_corrector = nb_movies/float(torch.sum(target_vector.data > 0) + 1e-10)\n",
    "        test_loss += np.sqrt(loss.data * mean_corrector)\n",
    "        counter += 1.\n",
    "print(\"loss : \" + str(test_loss/counter))"
   ]
  },
  {
   "cell_type": "code",
   "execution_count": 22,
   "metadata": {},
   "outputs": [
    {
     "data": {
      "text/plain": [
       "tensor([0., 0., 0.,  ..., 0., 0., 0.], grad_fn=<SelectBackward>)"
      ]
     },
     "execution_count": 22,
     "metadata": {},
     "output_type": "execute_result"
    }
   ],
   "source": [
    "output_vector[0]"
   ]
  },
  {
   "cell_type": "code",
   "execution_count": 23,
   "metadata": {},
   "outputs": [
    {
     "data": {
      "text/plain": [
       "tensor([0., 0., 0.,  ..., 0., 0., 0.])"
      ]
     },
     "execution_count": 23,
     "metadata": {},
     "output_type": "execute_result"
    }
   ],
   "source": [
    "target_vector[0]"
   ]
  },
  {
   "cell_type": "code",
   "execution_count": null,
   "metadata": {},
   "outputs": [],
   "source": []
  }
 ],
 "metadata": {
  "kernelspec": {
   "display_name": "Python 3.7 (tensorflow)",
   "language": "python",
   "name": "tensorflow"
  },
  "language_info": {
   "codemirror_mode": {
    "name": "ipython",
    "version": 3
   },
   "file_extension": ".py",
   "mimetype": "text/x-python",
   "name": "python",
   "nbconvert_exporter": "python",
   "pygments_lexer": "ipython3",
   "version": "3.7.7"
  }
 },
 "nbformat": 4,
 "nbformat_minor": 4
}
